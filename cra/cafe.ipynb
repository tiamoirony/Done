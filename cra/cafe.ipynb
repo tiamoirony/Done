{
 "cells": [
  {
   "cell_type": "code",
   "execution_count": 18,
   "metadata": {},
   "outputs": [],
   "source": [
    "from selenium import webdriver\n",
    "from selenium.webdriver.common.by import By\n",
    "from selenium.webdriver.common.keys import Keys\n",
    "from selenium.webdriver.support.select import Select\n",
    "from selenium.webdriver.support.ui import Select\n",
    "import pyautogui\n",
    "import time\n",
    "import openpyxl\n",
    "\n",
    "import requests\n",
    "import json\n",
    "import csv\n",
    "\n",
    "from bs4 import BeautifulSoup\n"
   ]
  },
  {
   "cell_type": "code",
   "execution_count": 42,
   "metadata": {},
   "outputs": [
    {
     "name": "stderr",
     "output_type": "stream",
     "text": [
      "/var/folders/4_/fcw_tc5x15l2vzn0_ps3jm0c0000gn/T/ipykernel_23385/2734449793.py:5: DeprecationWarning: executable_path has been deprecated, please pass in a Service object\n",
      "  driver = webdriver.Chrome('/usr/local/bin/chromedriver')\n"
     ]
    },
    {
     "ename": "TypeError",
     "evalue": "'WebElement' object is not iterable",
     "output_type": "error",
     "traceback": [
      "\u001b[0;31m---------------------------------------------------------------------------\u001b[0m",
      "\u001b[0;31mTypeError\u001b[0m                                 Traceback (most recent call last)",
      "Cell \u001b[0;32mIn [42], line 20\u001b[0m\n\u001b[1;32m     16\u001b[0m driver\u001b[39m.\u001b[39mswitch_to\u001b[39m.\u001b[39mframe(\u001b[39m'\u001b[39m\u001b[39mcafe_main\u001b[39m\u001b[39m'\u001b[39m)\n\u001b[1;32m     18\u001b[0m infos \u001b[39m=\u001b[39m driver\u001b[39m.\u001b[39mfind_element(By\u001b[39m.\u001b[39mCSS_SELECTOR, \u001b[39m'\u001b[39m\u001b[39mtr\u001b[39m\u001b[39m'\u001b[39m)\n\u001b[0;32m---> 20\u001b[0m \u001b[39mfor\u001b[39;00m info \u001b[39min\u001b[39;00m infos:\n\u001b[1;32m     22\u001b[0m     title \u001b[39m=\u001b[39m info\u001b[39m.\u001b[39mfind_element(By\u001b[39m.\u001b[39mCSS_SELECTOR, \u001b[39m\"\u001b[39m\u001b[39ma.article\u001b[39m\u001b[39m\"\u001b[39m)\n\u001b[1;32m     24\u001b[0m     \u001b[39mprint\u001b[39m(title)\n",
      "\u001b[0;31mTypeError\u001b[0m: 'WebElement' object is not iterable"
     ]
    }
   ],
   "source": [
    "\n",
    "wb = openpyxl.Workbook()\n",
    "ws = wb.active \n",
    "\n",
    "\n",
    "ws['A1'] = '캠핑장 정보'\n",
    "ws.append(['캠핑장','date'])\n",
    "\n",
    "\n",
    "for i in range(1, 4):\n",
    "    \n",
    "\n",
    "    \n",
    "    driver = webdriver.Chrome('/usr/local/bin/chromedriver')\n",
    "    \n",
    "    addr = (f'https://cafe.naver.com/ArticleList.nhn?search.clubid=20486145&search.menuid=119&search.boardtype=L&search.totalCount=151&search.cafeId=20486145&search.page={i}')\n",
    "    \n",
    "    driver.get(addr)\n",
    "    \n",
    "    driver.switch_to.frame('cafe_main')\n",
    "    \n",
    "    html = driver.page_source\n",
    "    \n",
    "    soup = BeautifulSoup(html, 'html.parser')\n",
    "    \n",
    "    \n",
    "    \n",
    "    infos = soup.select('tr')\n",
    "    \n",
    "    for info in infos:\n",
    "        \n",
    "        \n",
    "        try:\n",
    "            title = info.select('.article')[0].text.strip()\n",
    "            title = title[:17]\n",
    "            title = title.replace(' ','')\n",
    "\n",
    "            datetime = info.select('.td_date')[0].text.strip()\n",
    "            date = datetime[:10]\n",
    "            \n",
    "            print(title, date)\n",
    "            \n",
    "            ws.append([title, date])\n",
    "            \n",
    "        except:\n",
    "            pass\n",
    "            \n",
    "\n",
    "wb.save(\"캠핑장.xlsx\")            \n",
    "    \n",
    "\n",
    "        "
   ]
  },
  {
   "cell_type": "code",
   "execution_count": null,
   "metadata": {},
   "outputs": [],
   "source": []
  }
 ],
 "metadata": {
  "kernelspec": {
   "display_name": "Python 3.8.9 64-bit",
   "language": "python",
   "name": "python3"
  },
  "language_info": {
   "codemirror_mode": {
    "name": "ipython",
    "version": 3
   },
   "file_extension": ".py",
   "mimetype": "text/x-python",
   "name": "python",
   "nbconvert_exporter": "python",
   "pygments_lexer": "ipython3",
   "version": "3.8.9"
  },
  "orig_nbformat": 4,
  "vscode": {
   "interpreter": {
    "hash": "31f2aee4e71d21fbe5cf8b01ff0e069b9275f58929596ceb00d14d90e3e16cd6"
   }
  }
 },
 "nbformat": 4,
 "nbformat_minor": 2
}
