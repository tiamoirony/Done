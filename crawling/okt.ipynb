{
 "cells": [
  {
   "cell_type": "code",
   "execution_count": 9,
   "metadata": {},
   "outputs": [
    {
     "ename": "UnicodeDecodeError",
     "evalue": "'cp949' codec can't decode byte 0xe5 in position 10: illegal multibyte sequence",
     "output_type": "error",
     "traceback": [
      "\u001b[1;31m---------------------------------------------------------------------------\u001b[0m",
      "\u001b[1;31mUnicodeDecodeError\u001b[0m                        Traceback (most recent call last)",
      "\u001b[1;32mc:\\Users\\tiamo\\OneDrive\\바탕 화면\\프젝\\Done\\cra\\okt.ipynb 셀 1\u001b[0m in \u001b[0;36m<cell line: 4>\u001b[1;34m()\u001b[0m\n\u001b[0;32m      <a href='vscode-notebook-cell:/c%3A/Users/tiamo/OneDrive/%EB%B0%94%ED%83%95%20%ED%99%94%EB%A9%B4/%ED%94%84%EC%A0%9D/Done/cra/okt.ipynb#W0sZmlsZQ%3D%3D?line=0'>1</a>\u001b[0m \u001b[39mfrom\u001b[39;00m \u001b[39mkonlpy\u001b[39;00m\u001b[39m.\u001b[39;00m\u001b[39mtag\u001b[39;00m \u001b[39mimport\u001b[39;00m Okt\n\u001b[0;32m      <a href='vscode-notebook-cell:/c%3A/Users/tiamo/OneDrive/%EB%B0%94%ED%83%95%20%ED%99%94%EB%A9%B4/%ED%94%84%EC%A0%9D/Done/cra/okt.ipynb#W0sZmlsZQ%3D%3D?line=3'>4</a>\u001b[0m \u001b[39mwith\u001b[39;00m \u001b[39mopen\u001b[39m(\u001b[39m'\u001b[39m\u001b[39m캠핑장.xlsx\u001b[39m\u001b[39m'\u001b[39m) \u001b[39mas\u001b[39;00m f:\n\u001b[1;32m----> <a href='vscode-notebook-cell:/c%3A/Users/tiamo/OneDrive/%EB%B0%94%ED%83%95%20%ED%99%94%EB%A9%B4/%ED%94%84%EC%A0%9D/Done/cra/okt.ipynb#W0sZmlsZQ%3D%3D?line=4'>5</a>\u001b[0m     text \u001b[39m=\u001b[39m f\u001b[39m.\u001b[39;49mread()\n\u001b[0;32m      <a href='vscode-notebook-cell:/c%3A/Users/tiamo/OneDrive/%EB%B0%94%ED%83%95%20%ED%99%94%EB%A9%B4/%ED%94%84%EC%A0%9D/Done/cra/okt.ipynb#W0sZmlsZQ%3D%3D?line=6'>7</a>\u001b[0m okt \u001b[39m=\u001b[39m Okt()\n\u001b[0;32m      <a href='vscode-notebook-cell:/c%3A/Users/tiamo/OneDrive/%EB%B0%94%ED%83%95%20%ED%99%94%EB%A9%B4/%ED%94%84%EC%A0%9D/Done/cra/okt.ipynb#W0sZmlsZQ%3D%3D?line=8'>9</a>\u001b[0m nouns \u001b[39m=\u001b[39m okt\u001b[39m.\u001b[39mnouns(text) \u001b[39m# 명사만 추출\u001b[39;00m\n",
      "\u001b[1;31mUnicodeDecodeError\u001b[0m: 'cp949' codec can't decode byte 0xe5 in position 10: illegal multibyte sequence"
     ]
    }
   ],
   "source": [
    "from konlpy.tag import Okt\n",
    "\n",
    "\n",
    "with open('캠핑장.xlsx') as f:\n",
    "    text = f.read()\n",
    "\n",
    "okt = Okt()\n",
    "\n",
    "nouns = okt.nouns(text) # 명사만 추출\n",
    "\n",
    "words = [n for n in nouns if len(n) > 1] # 단어의 길이가 1개인 것은 제외\n",
    "\n",
    "print(words)\n",
    "\n"
   ]
  },
  {
   "cell_type": "code",
   "execution_count": null,
   "metadata": {},
   "outputs": [],
   "source": []
  },
  {
   "cell_type": "code",
   "execution_count": null,
   "metadata": {},
   "outputs": [],
   "source": []
  },
  {
   "cell_type": "code",
   "execution_count": null,
   "metadata": {},
   "outputs": [],
   "source": []
  }
 ],
 "metadata": {
  "kernelspec": {
   "display_name": "Python 3.9.12 ('base')",
   "language": "python",
   "name": "python3"
  },
  "language_info": {
   "codemirror_mode": {
    "name": "ipython",
    "version": 3
   },
   "file_extension": ".py",
   "mimetype": "text/x-python",
   "name": "python",
   "nbconvert_exporter": "python",
   "pygments_lexer": "ipython3",
   "version": "3.9.12"
  },
  "orig_nbformat": 4,
  "vscode": {
   "interpreter": {
    "hash": "c5932105b8b97ab23a11741ce71308800e56d71f826d86ba1893ab1e468020ed"
   }
  }
 },
 "nbformat": 4,
 "nbformat_minor": 2
}
