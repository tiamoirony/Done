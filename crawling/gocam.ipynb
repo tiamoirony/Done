{
 "cells": [
  {
   "cell_type": "code",
   "execution_count": 2,
   "metadata": {},
   "outputs": [
    {
     "name": "stderr",
     "output_type": "stream",
     "text": [
<<<<<<< HEAD
      "C:\\Users\\USER\\AppData\\Local\\Temp\\ipykernel_15460\\416707574.py:14: DeprecationWarning: executable_path has been deprecated, please pass in a Service object\n",
=======
      "C:\\Users\\USER\\AppData\\Local\\Temp\\ipykernel_16140\\416707574.py:14: DeprecationWarning: executable_path has been deprecated, please pass in a Service object\n",
>>>>>>> a3282c8bdc681b111688bd9a01285999b7c72df6
      "  driver = webdriver.Chrome(\"c://chromedriver.exe\")\n"
     ]
    }
   ],
   "source": [
    "from selenium import webdriver\n",
    "from selenium.webdriver.common.by import By\n",
    "from selenium.webdriver.common.keys import Keys\n",
    "from selenium.webdriver.support.ui import Select\n",
    "import time\n",
    "import requests\n",
    "from bs4 import BeautifulSoup\n",
    "import requests\n",
    "import json\n",
    "import openpyxl\n",
    "import requests\n",
    "from bs4 import BeautifulSoup\n",
    "\n",
    "driver = webdriver.Chrome(\"c://chromedriver.exe\")\n",
    "driver.get(\"https://www.gocamping.or.kr/\")\n",
    "time.sleep(2)"
   ]
  },
  {
   "cell_type": "code",
   "execution_count": 49,
   "metadata": {},
   "outputs": [
    {
     "name": "stderr",
     "output_type": "stream",
     "text": [
      "C:\\Users\\USER\\AppData\\Local\\Temp\\ipykernel_12144\\742983170.py:1: DeprecationWarning: executable_path has been deprecated, please pass in a Service object\n",
      "  driver = webdriver.Chrome(\"c://chromedriver.exe\")\n"
     ]
    }
   ],
   "source": [
    "driver = webdriver.Chrome(\"c://chromedriver.exe\")\n",
    "driver.get(\"https://www.gocamping.or.kr/bsite/camp/info/list.do?listTy=LIST&listOrdrTrget=c_rdcnt&c_do=&c_signgu=&searchLctCl=&searchKrwd=\")\n",
    "time.sleep(2)"
   ]
  },
  {
   "cell_type": "code",
   "execution_count": 3,
   "metadata": {},
   "outputs": [],
   "source": [
    "page = int(input(\"페이지 입력하세요: \"))\n",
    "\n",
    "wb = openpyxl.Workbook()\n",
    "ws = wb.active\n",
    "\n",
    "\n",
    "ws['A1'] = page\n",
<<<<<<< HEAD
    "ws.append(['조회수', '제목', '주소', '아이콘'])\n",
=======
    "ws.append(['앵커', '제목', '주소', '아이콘'])\n",
>>>>>>> a3282c8bdc681b111688bd9a01285999b7c72df6
    "\n",
    "\n",
    "\n",
    "for i in range(1, page + 1):\n",
    "    try:\n",
    "        response = requests.get(f'https://www.gocamping.or.kr/bsite/camp/info/list.do?pageUnit=10&searchKrwd=&listOrdrTrget=c_rdcnt&pageIndex={i}')\n",
    "        html = response.text\n",
    "        soup = BeautifulSoup(html, 'html.parser')\n",
    "\n",
    "        articles = soup.select(\".camp_search_list>ul>li\")\n",
    "\n",
    "        for article in articles:\n",
    "            view = article.select_one(\".camp_cont>p>.item_t03\")\n",
    "            title = article.select_one(\".camp_tt>a\")\n",
    "            adress = article.select_one(\".camp_info01>li:nth-child(1)\")\n",
    "            icon = article.select_one(\".camp_item_box>ul\")\n",
    "            ws.append([view.text, title.text, adress.text, icon.text])\n",
    "            \n",
    "            \n",
    "    except:\n",
    "        pass\n",
    "\n",
    "wb.save(f\"조회순.xlsx\")"
   ]
  },
  {
   "cell_type": "code",
   "execution_count": null,
   "metadata": {},
   "outputs": [],
   "source": []
  }
 ],
 "metadata": {
  "kernelspec": {
   "display_name": "Python 3.9.12 ('base')",
   "language": "python",
   "name": "python3"
  },
  "language_info": {
   "codemirror_mode": {
    "name": "ipython",
    "version": 3
   },
   "file_extension": ".py",
   "mimetype": "text/x-python",
   "name": "python",
   "nbconvert_exporter": "python",
   "pygments_lexer": "ipython3",
   "version": "3.9.12"
  },
  "orig_nbformat": 4,
  "vscode": {
   "interpreter": {
<<<<<<< HEAD
    "hash": "c5932105b8b97ab23a11741ce71308800e56d71f826d86ba1893ab1e468020ed"
=======
    "hash": "263930470851f494f0ed2879c35b57985588df20f9e529b86e97dd5eb9ddc466"
>>>>>>> a3282c8bdc681b111688bd9a01285999b7c72df6
   }
  }
 },
 "nbformat": 4,
 "nbformat_minor": 2
}
