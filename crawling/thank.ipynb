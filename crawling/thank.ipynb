{
 "cells": [
  {
   "cell_type": "code",
   "execution_count": 2,
   "metadata": {},
   "outputs": [],
   "source": [
    "from selenium import webdriver\n",
    "from selenium.webdriver.common.by import By\n",
    "from selenium.webdriver.common.keys import Keys\n",
    "from selenium.webdriver.support.select import Select\n",
    "from selenium.webdriver.support.ui import Select\n",
    "import pyautogui\n",
    "import time\n",
    "import openpyxl\n",
    "\n",
    "import requests\n",
    "import json\n",
    "import csv\n",
    "\n",
    "from bs4 import BeautifulSoup\n"
   ]
  },
  {
   "cell_type": "code",
   "execution_count": 3,
   "metadata": {},
   "outputs": [
    {
     "name": "stdout",
     "output_type": "stream",
     "text": [
      "Point(x=1758, y=286)\n"
     ]
    }
   ],
   "source": [
    "# 현재 마우스 커서의 위치 출력\n",
    "print(pyautogui.position())\n"
   ]
  },
  {
   "cell_type": "code",
   "execution_count": 4,
   "metadata": {},
   "outputs": [
    {
     "name": "stderr",
     "output_type": "stream",
     "text": [
      "C:\\Users\\tiamo\\AppData\\Local\\Temp\\ipykernel_3344\\966729926.py:1: DeprecationWarning: executable_path has been deprecated, please pass in a Service object\n",
      "  driver = webdriver.Chrome('/usr/local/bin/chromedriver')\n"
     ]
    },
    {
     "ename": "KeyboardInterrupt",
     "evalue": "",
     "output_type": "error",
     "traceback": [
      "\u001b[1;31m---------------------------------------------------------------------------\u001b[0m",
      "\u001b[1;31mKeyboardInterrupt\u001b[0m                         Traceback (most recent call last)",
      "\u001b[1;32mc:\\Users\\tiamo\\OneDrive\\바탕 화면\\프젝\\Done\\cra\\thank.ipynb 셀 3\u001b[0m in \u001b[0;36m<cell line: 30>\u001b[1;34m()\u001b[0m\n\u001b[0;32m     <a href='vscode-notebook-cell:/c%3A/Users/tiamo/OneDrive/%EB%B0%94%ED%83%95%20%ED%99%94%EB%A9%B4/%ED%94%84%EC%A0%9D/Done/cra/thank.ipynb#W2sZmlsZQ%3D%3D?line=29'>30</a>\u001b[0m \u001b[39mfor\u001b[39;00m i \u001b[39min\u001b[39;00m \u001b[39mrange\u001b[39m(\u001b[39m20\u001b[39m):\n\u001b[0;32m     <a href='vscode-notebook-cell:/c%3A/Users/tiamo/OneDrive/%EB%B0%94%ED%83%95%20%ED%99%94%EB%A9%B4/%ED%94%84%EC%A0%9D/Done/cra/thank.ipynb#W2sZmlsZQ%3D%3D?line=30'>31</a>\u001b[0m     driver\u001b[39m.\u001b[39mfind_element(By\u001b[39m.\u001b[39mCSS_SELECTOR, \u001b[39m\"\u001b[39m\u001b[39mbody\u001b[39m\u001b[39m\"\u001b[39m)\u001b[39m.\u001b[39msend_keys(Keys\u001b[39m.\u001b[39mEND)\n\u001b[1;32m---> <a href='vscode-notebook-cell:/c%3A/Users/tiamo/OneDrive/%EB%B0%94%ED%83%95%20%ED%99%94%EB%A9%B4/%ED%94%84%EC%A0%9D/Done/cra/thank.ipynb#W2sZmlsZQ%3D%3D?line=31'>32</a>\u001b[0m     time\u001b[39m.\u001b[39;49msleep(\u001b[39m5\u001b[39;49m)\n\u001b[0;32m     <a href='vscode-notebook-cell:/c%3A/Users/tiamo/OneDrive/%EB%B0%94%ED%83%95%20%ED%99%94%EB%A9%B4/%ED%94%84%EC%A0%9D/Done/cra/thank.ipynb#W2sZmlsZQ%3D%3D?line=34'>35</a>\u001b[0m infos \u001b[39m=\u001b[39m driver\u001b[39m.\u001b[39mfind_elements(By\u001b[39m.\u001b[39mCSS_SELECTOR, \u001b[39m\"\u001b[39m\u001b[39m.camp_div\u001b[39m\u001b[39m\"\u001b[39m)\n\u001b[0;32m     <a href='vscode-notebook-cell:/c%3A/Users/tiamo/OneDrive/%EB%B0%94%ED%83%95%20%ED%99%94%EB%A9%B4/%ED%94%84%EC%A0%9D/Done/cra/thank.ipynb#W2sZmlsZQ%3D%3D?line=36'>37</a>\u001b[0m \u001b[39mfor\u001b[39;00m info \u001b[39min\u001b[39;00m infos:\n",
      "\u001b[1;31mKeyboardInterrupt\u001b[0m: "
     ]
    }
   ],
   "source": [
    "\n",
    "driver = webdriver.Chrome('/usr/local/bin/chromedriver')\n",
    "\n",
    "driver.get('https://m.thankqcamping.com/resv/list.hbb?ser_long_yn=Y')\n",
    "\n",
    "time.sleep(2)\n",
    "\n",
    "pyautogui.click(390, 283)\n",
    "time.sleep(1)\n",
    "\n",
    "pyautogui.click(477, 878)\n",
    "time.sleep(1)\n",
    "\n",
    "pyautogui.click(617, 951)\n",
    "time.sleep(1)\n",
    "\n",
    "pyautogui.click(571, 269)\n",
    "time.sleep(1)\n",
    "\n",
    "pyautogui.click(807, 888)\n",
    "time.sleep(1)\n",
    "\n",
    "pyautogui.click(617, 951)\n",
    "time.sleep(5)\n",
    "\n",
    "wb = openpyxl.Workbook()\n",
    "ws = wb.active\n",
    "\n",
    "ws.append(['이름', '조회순', '기타'])\n",
    "\n",
    "for i in range(20):\n",
    "    driver.find_element(By.CSS_SELECTOR, \"body\").send_keys(Keys.END)\n",
    "    time.sleep(5)\n",
    "\n",
    "\n",
    "infos = driver.find_elements(By.CSS_SELECTOR, \".camp_div\")\n",
    "\n",
    "for info in infos:\n",
    "    try:\n",
    "        title = info.find_element(By.CSS_SELECTOR, \".tit\").text\n",
    "        reple = info.find_element(By.CSS_SELECTOR, \".li_E0001\").text\n",
    "        \n",
    "        \n",
    "        etc = info.find_element(By.CSS_SELECTOR, \".li_EA000\").text\n",
    "        \n",
    "        print('캠핑장이름:', title)\n",
    "        print('========================================================================================================================================================================================')\n",
    "        print('조회수:', reple)\n",
    "        print('========================================================================================================================================================================================')\n",
    "        print('기타:', etc)\n",
    "        \n",
    "        ws.append([title, reple, etc])\n",
    " \n",
    "    except:\n",
    "        pass\n",
    "\n",
    "\n",
    "wb.save(f\"thank조회순.xlsx\")\n"
   ]
  },
  {
   "cell_type": "code",
   "execution_count": 33,
   "metadata": {},
   "outputs": [],
   "source": [
    "ws.append(['이름', '조회순', '기타'])\n",
    "\n",
    "for i in range(10):\n",
    "    driver.find_element(By.CSS_SELECTOR, \"body\").send_keys(Keys.END)\n",
    "    time.sleep(5)\n",
    "\n",
    "\n",
    "infos = driver.find_elements(By.CSS_SELECTOR, \".camp_div\")\n",
    "\n",
    "for info in infos:\n",
    "    try:\n",
    "        title = info.find_element(By.CSS_SELECTOR, \".tit\").text\n",
    "        reple = info.find_element(By.CSS_SELECTOR, \".li_E0001\").text\n",
    "        \n",
    "        \n",
    "        etc = info.find_element(By.CSS_SELECTOR, \".li_EA000\").text\n",
    "        \n",
    "        print('캠핑장이름:', title)\n",
    "        print('========================================================================================================================================================================================')\n",
    "        print('조회수:', reple)\n",
    "        print('========================================================================================================================================================================================')\n",
    "        print('기타:', etc)\n",
    "        \n",
    "        ws.append([title, reple, etc])\n",
    " \n",
    "    except:\n",
    "        pass\n",
    "\n",
    "\n",
    "wb.save(f\"thank조회순.xlsx\")"
   ]
  }
 ],
 "metadata": {
  "kernelspec": {
   "display_name": "Python 3.9.12 ('base')",
   "language": "python",
   "name": "python3"
  },
  "language_info": {
   "codemirror_mode": {
    "name": "ipython",
    "version": 3
   },
   "file_extension": ".py",
   "mimetype": "text/x-python",
   "name": "python",
   "nbconvert_exporter": "python",
   "pygments_lexer": "ipython3",
   "version": "3.9.12"
  },
  "orig_nbformat": 4,
  "vscode": {
   "interpreter": {
    "hash": "c5932105b8b97ab23a11741ce71308800e56d71f826d86ba1893ab1e468020ed"
   }
  }
 },
 "nbformat": 4,
 "nbformat_minor": 2
}
